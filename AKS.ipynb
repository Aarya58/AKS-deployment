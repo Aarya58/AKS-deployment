{
  "nbformat": 4,
  "nbformat_minor": 0,
  "metadata": {
    "colab": {
      "name": "AKS.ipynb",
      "provenance": []
    },
    "kernelspec": {
      "name": "python3",
      "display_name": "Python 3"
    },
    "language_info": {
      "name": "python"
    }
  },
  "cells": [
    {
      "cell_type": "markdown",
      "metadata": {
        "id": "9i9jy5BMhy8X"
      },
      "source": [
        "# **Deploying a web service to Azure Kubernetes Service (AKS)**\n",
        "This notebook shows the steps for deploying a service: registering a model, provisioning a cluster with ssl (one time action), and deploying a service to it. We then test and delete the service, image and model."
      ]
    },
    {
      "cell_type": "code",
      "metadata": {
        "id": "cKDBRJ6IhfmT"
      },
      "source": [
        "from azureml.core import Workspace\n",
        "from azureml.core.compute import AksCompute, ComputeTarget\n",
        "from azureml.core.webservice import Webservice, AksWebservice\n",
        "from azureml.core.model import Model"
      ],
      "execution_count": null,
      "outputs": []
    },
    {
      "cell_type": "code",
      "metadata": {
        "id": "jy8f8LgDiA6M"
      },
      "source": [
        "import azureml.core\n",
        "print(azureml.core.VERSION)"
      ],
      "execution_count": null,
      "outputs": []
    },
    {
      "cell_type": "markdown",
      "metadata": {
        "id": "LCF4kIMDiCCs"
      },
      "source": [
        "**Get workspace**\n",
        "\n",
        "Load existing workspace from the config file info."
      ]
    },
    {
      "cell_type": "code",
      "metadata": {
        "id": "PwbsGQjjiMWk"
      },
      "source": [
        "from azureml.core.workspace import Workspace\n",
        "\n",
        "ws = Workspace.from_config()\n",
        "print(ws.name, ws.resource_group, ws.location, ws.subscription_id, sep = '\\n')"
      ],
      "execution_count": null,
      "outputs": []
    },
    {
      "cell_type": "markdown",
      "metadata": {
        "id": "Gp6jcYgQiVDP"
      },
      "source": [
        "**Register the model**\n",
        "\n",
        "Register an existing trained model, add descirption and tags."
      ]
    },
    {
      "cell_type": "code",
      "metadata": {
        "id": "BNJ_t1rqiYqz"
      },
      "source": [
        "#Register the model\n",
        "from azureml.core.model import Model\n",
        "model = Model.register(model_path = \"sklearn_regression_model.pkl\", # this points to a local file\n",
        "                       model_name = \"sklearn_model\", # this is the name the model is registered as\n",
        "                       tags = {'area': \"diabetes\", 'type': \"regression\"},\n",
        "                       description = \"Ridge regression model to predict diabetes\",\n",
        "                       workspace = ws)\n",
        "\n",
        "print(model.name, model.description, model.version)"
      ],
      "execution_count": null,
      "outputs": []
    },
    {
      "cell_type": "markdown",
      "metadata": {
        "id": "Iiqnt8n6iiNQ"
      },
      "source": [
        "**Create the Environment**\n",
        "\n",
        "Create an environment that the model will be deployed with"
      ]
    },
    {
      "cell_type": "code",
      "metadata": {
        "id": "JIPwm30himFl"
      },
      "source": [
        "from azureml.core import Environment\n",
        "from azureml.core.conda_dependencies import CondaDependencies \n",
        "\n",
        "conda_deps = CondaDependencies.create(conda_packages=['numpy', 'scikit-learn==0.19.1', 'scipy'], pip_packages=['azureml-defaults', 'inference-schema'])\n",
        "myenv = Environment(name='myenv')\n",
        "myenv.python.conda_dependencies = conda_deps"
      ],
      "execution_count": null,
      "outputs": []
    },
    {
      "cell_type": "markdown",
      "metadata": {
        "id": "JO2zmxx0irYM"
      },
      "source": [
        "**Use a custom Docker image**\n",
        "\n",
        "You can also specify a custom Docker image to be used as base image if you don't want to use the default base image provided by Azure ML. Please make sure the custom Docker image has Ubuntu >= 16.04, Conda >= 4.5.* and Python(3.5.* or 3.6.*).\n",
        "\n",
        "Only supported with python runtime\n",
        "\n"
      ]
    },
    {
      "cell_type": "code",
      "metadata": {
        "id": "NEuF_ZjKjhxN"
      },
      "source": [
        "#use an image available in public Container Registry without authentication\n",
        "myenv.docker.base_image = \"mcr.microsoft.com/azureml/o16n-sample-user-base/ubuntu-miniconda\"\n",
        "#or, use an image available in a private Container Registry\n",
        "myenv.docker.base_image = \"myregistry.azurecr.io/mycustomimage:1.0\"\n",
        "myenv.docker.base_image_registry.address = \"myregistry.azurecr.io\"\n",
        "myenv.docker.base_image_registry.username = \"username\"\n",
        "myenv.docker.base_image_registry.password = \"password\""
      ],
      "execution_count": null,
      "outputs": []
    },
    {
      "cell_type": "markdown",
      "metadata": {
        "id": "cIqub-xsjWgA"
      },
      "source": [
        "**Write the Entry Script**\n",
        "\n",
        "Write the script that will be used to predict on your model"
      ]
    },
    {
      "cell_type": "code",
      "metadata": {
        "id": "lKz12wiljKxG"
      },
      "source": [
        "%%writefile score_ssl.py\n",
        "import os\n",
        "import pickle\n",
        "import json\n",
        "import numpy\n",
        "from sklearn.externals import joblib\n",
        "from sklearn.linear_model import Ridge\n",
        "from inference_schema.schema_decorators import input_schema, output_schema\n",
        "from inference_schema.parameter_types.standard_py_parameter_type import StandardPythonParameterType\n",
        "\n",
        "def init():\n",
        "    global model\n",
        "    # AZUREML_MODEL_DIR is an environment variable created during deployment.\n",
        "    # It is the path to the model folder (./azureml-models/$MODEL_NAME/$VERSION)\n",
        "    # For multiple models, it points to the folder containing all deployed models (./azureml-models)\n",
        "    model_path = os.path.join(os.getenv('AZUREML_MODEL_DIR'), 'sklearn_regression_model.pkl')\n",
        "    # deserialize the model file back into a sklearn model\n",
        "    model = joblib.load(model_path)\n",
        "\n",
        "standard_sample_input = {'a': 10, 'b': 9, 'c': 8, 'd': 7, 'e': 6, 'f': 5, 'g': 4, 'h': 3, 'i': 2, 'j': 1 }\n",
        "standard_sample_output = {'outcome': 1}\n",
        "\n",
        "@input_schema('param', StandardPythonParameterType(standard_sample_input))\n",
        "@output_schema(StandardPythonParameterType(standard_sample_output))\n",
        "def run(param):\n",
        "    try:\n",
        "        raw_data = [param['a'], param['b'], param['c'], param['d'], param['e'], param['f'], param['g'], param['h'], param['i'], param['j']]\n",
        "        data = numpy.array([raw_data])\n",
        "        result = model.predict(data)\n",
        "        return { 'outcome' : result[0] }\n",
        "    except Exception as e:\n",
        "        error = str(e)\n",
        "        return error"
      ],
      "execution_count": null,
      "outputs": []
    },
    {
      "cell_type": "markdown",
      "metadata": {
        "id": "apuqJYlBj6bS"
      },
      "source": [
        "**Create the InferenceConfig**\n",
        "\n",
        "Create the inference config that will be used when deploying the model"
      ]
    },
    {
      "cell_type": "code",
      "metadata": {
        "id": "pB1UdubXj5hu"
      },
      "source": [
        "from azureml.core.model import InferenceConfig\n",
        "\n",
        "inf_config = InferenceConfig(entry_script='score_ssl.py', environment=myenv)"
      ],
      "execution_count": null,
      "outputs": []
    },
    {
      "cell_type": "markdown",
      "metadata": {
        "id": "xJLbvh5mkDKM"
      },
      "source": [
        "**Provision the AKS Cluster with SSL**\n",
        "\n",
        "This is a one time setup. You can reuse this cluster for multiple deployments after it has been created. If you delete the cluster or the resource group that contains it, then you would have to recreate it.\n",
        "\n",
        "Note that if you have an AzureML Data Scientist role, you will not have permission to create compute resources. Talk to your workspace or IT admin to create the compute targets described in this section, if they do not already exist."
      ]
    },
    {
      "cell_type": "code",
      "metadata": {
        "id": "sG05XZCKkMXI"
      },
      "source": [
        "# Use the default configuration (can also provide parameters to customize)\n",
        "\n",
        "provisioning_config = AksCompute.provisioning_configuration()\n",
        "# Leaf domain label generates a name using the formula\n",
        "#  \"<leaf-domain-label>######.<azure-region>.cloudapp.azure.net\"\n",
        "#  where \"######\" is a random series of characters\n",
        "provisioning_config.enable_ssl(leaf_domain_label = \"contoso\", overwrite_existing_domain = True)\n",
        "\n",
        "aks_name = 'my-aks-ssl-1' \n",
        "# Create the cluster\n",
        "aks_target = ComputeTarget.create(workspace = ws, \n",
        "                                  name = aks_name, \n",
        "                                  provisioning_configuration = provisioning_config)"
      ],
      "execution_count": null,
      "outputs": []
    },
    {
      "cell_type": "code",
      "metadata": {
        "id": "NjXxYuf9kVSg"
      },
      "source": [
        "%%time\n",
        "aks_target.wait_for_completion(show_output = True)\n",
        "print(aks_target.provisioning_state)\n",
        "print(aks_target.provisioning_errors)"
      ],
      "execution_count": null,
      "outputs": []
    },
    {
      "cell_type": "markdown",
      "metadata": {
        "id": "hqARpPtskWUe"
      },
      "source": [
        "**Deploy web service to AKS**"
      ]
    },
    {
      "cell_type": "code",
      "metadata": {
        "id": "DiXyNNWMkf0E"
      },
      "source": [
        "%%time\n",
        "\n",
        "aks_config = AksWebservice.deploy_configuration()\n",
        "\n",
        "aks_service_name ='aks-service-ssl-1'\n",
        "\n",
        "aks_service = Model.deploy(workspace=ws,\n",
        "                           name=aks_service_name,\n",
        "                           models=[model],\n",
        "                           inference_config=inf_config,\n",
        "                           deployment_config=aks_config,\n",
        "                           deployment_target=aks_target,\n",
        "                          overwrite=True)\n",
        "\n",
        "aks_service.wait_for_deployment(show_output = True)\n",
        "print(aks_service.state)"
      ],
      "execution_count": null,
      "outputs": []
    },
    {
      "cell_type": "markdown",
      "metadata": {
        "id": "4Jm-upB_knr-"
      },
      "source": [
        "**Test the web service using run method**\n",
        "\n",
        "We test the web sevice by passing data. Run() method retrieves API keys behind the scenes to make sure that call is authenticated."
      ]
    },
    {
      "cell_type": "code",
      "metadata": {
        "id": "uDfbfTJekw1h"
      },
      "source": [
        "%%time\n",
        "import json\n",
        "\n",
        "standard_sample_input = json.dumps({'param': {'a': 10, 'b': 9, 'c': 8, 'd': 7, 'e': 6, 'f': 5, 'g': 4, 'h': 3, 'i': 2, 'j': 1 }})\n",
        "\n",
        "aks_service.run(input_data=standard_sample_input)"
      ],
      "execution_count": null,
      "outputs": []
    }
  ]
}